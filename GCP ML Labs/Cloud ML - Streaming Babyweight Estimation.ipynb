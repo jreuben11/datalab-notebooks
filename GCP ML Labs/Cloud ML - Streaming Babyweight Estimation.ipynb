{
 "cells": [
  {
   "cell_type": "markdown",
   "metadata": {
    "collapsed": true
   },
   "source": [
    "## (Bonus) Streaming data prediction using Cloud ML Engine \n",
    "\n",
    "This notebook illustrates:\n",
    "\n",
    "1. Create a PubSub Topic and Subscription.\n",
    "2. Create a Dataflow Streaming pipeline to consume messages.\n",
    "3. Use the deployed Cloud ML Engine API to make prediction.\n",
    "4. Stroe the data and the prediction in BigQuery.\n",
    "5. Run a stream data simulator."
   ]
  },
  {
   "cell_type": "code",
   "execution_count": null,
   "metadata": {
    "collapsed": true
   },
   "outputs": [],
   "source": [
    "#%%bash\n",
    "\n",
    "#pip install -U protobuf\n",
    "#pip install -U apache_beam\n",
    "#pip install six==1.10\n",
    "#pip freeze"
   ]
  },
  {
   "cell_type": "code",
   "execution_count": 1,
   "metadata": {},
   "outputs": [
    {
     "name": "stdout",
     "output_type": "stream",
     "text": [
      "2.2.0\n"
     ]
    },
    {
     "name": "stderr",
     "output_type": "stream",
     "text": [
      "No handlers could be found for logger \"oauth2client.contrib.multistore_file\"\n"
     ]
    }
   ],
   "source": [
    "import time\n",
    "import datetime\n",
    "from google.cloud import pubsub\n",
    "import json\n",
    "import apache_beam as beam\n",
    "import os\n",
    "print(beam.__version__)"
   ]
  },
  {
   "cell_type": "code",
   "execution_count": null,
   "metadata": {
    "collapsed": true
   },
   "outputs": [],
   "source": [
    "TIME_FORMAT = '%Y-%m-%d %H:%M:%S'\n",
    "RUNNER = \"Dataflow\"\n",
    "PROJECT = 'ksalama-gcp-playground'\n",
    "DATASET = 'playground_ds'\n",
    "TABLE = 'babyweight_estimates'\n",
    "STG_BUCKET = 'stagging-ksalama-gcs-cloudml'\n",
    "REGION = 'europe-west1'\n",
    "TOPIC = 'babyweights'\n",
    "SUBSCRIPTION='babyweights-sub'"
   ]
  },
  {
   "cell_type": "markdown",
   "metadata": {},
   "source": [
    "## Create PubSub Topic and Subscription"
   ]
  },
  {
   "cell_type": "code",
   "execution_count": null,
   "metadata": {
    "collapsed": true
   },
   "outputs": [],
   "source": [
    "client = pubsub.Client()\n",
    "topic = client.topic(TOPIC)\n",
    "\n",
    "if not topic.exists():\n",
    "    print('Creating pub/sub topic {}...'.format(TOPIC))\n",
    "    topic.create()\n",
    "\n",
    "print('Pub/sub topic {} is up and running'.format(TOPIC))\n",
    "print(\"\")\n",
    "\n",
    "\n",
    "subscription = topic.subscription(name=SUBSCRIPTION)\n",
    "if not subscription.exists():\n",
    "    print('Creating pub/sub subscription {}...'.format(SUBSCRIPTION))\n",
    "    subscription.create(client=client)\n",
    "\n",
    "print ('Pub/sub subscription {} is up and running'.format(SUBSCRIPTION))\n",
    "print(\"\")"
   ]
  },
  {
   "cell_type": "markdown",
   "metadata": {},
   "source": [
    "## Submit Dataflow Stream Processing Job"
   ]
  },
  {
   "cell_type": "code",
   "execution_count": null,
   "metadata": {
    "collapsed": true
   },
   "outputs": [],
   "source": [
    "pubsub_subscription = \"projects/{}/subscriptions/{}\".format(PROJECT,SUBSCRIPTION)\n",
    "#pubsub_topic = \"projects/{}/topics/{}\".format(PROJECT,TOPIC)\n",
    "\n",
    "schema_definition = {\n",
    "    'source_id':'INTEGER',\n",
    "    'source_timestamp':'TIMESTAMP',\n",
    "    'estimated_weight_kg':'FLOAT',\n",
    "    'is_male': 'STRING',\n",
    "    'mother_age': 'FLOAT',\n",
    "    'mother_race': 'STRING',\n",
    "    'plurality': 'FLOAT',\n",
    "    'gestation_weeks': 'INTEGER',\n",
    "    'mother_married': 'BOOLEAN',\n",
    "    'cigarette_use': 'BOOLEAN',\n",
    "    'alcohol_use': 'BOOLEAN'\n",
    "}\n",
    "\n",
    "schema = str(schema_definition).replace('{','').replace('}','').replace(\"'\",'').replace(' ','')\n",
    "\n",
    "print('Pub/Sub Subscription Link: {}'.format(pubsub_subscription))\n",
    "print('')\n",
    "print('BigQuery Dataset: {}'.format(DATASET))\n",
    "print('BigQuery Tabe: {}'.format(TABLE))\n",
    "print('')\n",
    "print('BigQuery Table Schema: {}'.format(schema))\n",
    "\n",
    "\n",
    "def estimate_weight(json_message):\n",
    "    \n",
    "    PROJECT='ksalama-gcp-playground'\n",
    "    MODEL_NAME='babyweight_estimator'\n",
    "    VERSION='v1'\n",
    "    \n",
    "    import json\n",
    "    from googleapiclient import discovery\n",
    "    from oauth2client.client import GoogleCredentials\n",
    "    \n",
    "    credentials = GoogleCredentials.get_application_default()\n",
    "    api = discovery.build('ml', 'v1', credentials=credentials,\n",
    "                discoveryServiceUrl='https://storage.googleapis.com/cloud-ml/discovery/ml_v1_discovery.json')\n",
    "\n",
    "    instance = json.loads(json_message)\n",
    "    source_id = instance.pop('source_id')\n",
    "    source_timestamp = instance.pop('source_timestamp')\n",
    "    \n",
    "    request_data = {'instances': [instance]}\n",
    "\n",
    "    model_url = 'projects/{}/models/{}/versions/{}'.format(PROJECT, MODEL_NAME, VERSION)\n",
    "    response = api.projects().predict(body=request_data, name=model_url).execute()\n",
    "\n",
    "    estimates = list(map(lambda item: round(item[\"scores\"],2)\n",
    "        ,response[\"predictions\"]\n",
    "    ))\n",
    "    \n",
    "    estimated_weight_kg =  round(int(estimates[0]) * 0.453592,2)\n",
    "    \n",
    "    instance['estimated_weight_kg'] = estimated_weight_kg\n",
    "    instance['source_id'] = source_id\n",
    "    instance['source_timestamp'] = source_timestamp\n",
    "\n",
    "    return instance\n",
    "  \n",
    "def run_babyweight_estimates_streaming_pipeline():\n",
    "    \n",
    "    job_name = 'ingest-babyweight-estimates-{}'.format(datetime.datetime.now().strftime('%y%m%d-%H%M%S'))\n",
    "    print 'Launching Dataflow job {}'.format(job_name)\n",
    "    print 'Check the Dataflow jobs on Google Cloud Console...'\n",
    "\n",
    "    STG_DIR = 'gs://{}/babyweight'.format(STG_BUCKET)\n",
    "\n",
    "    options = {\n",
    "        'staging_location': os.path.join(STG_DIR, 'tmp', 'staging'),\n",
    "        'temp_location': os.path.join(STG_DIR, 'tmp'),\n",
    "        'job_name': job_name,\n",
    "        'project': PROJECT,\n",
    "        'streaming': True,\n",
    "        'teardown_policy': 'TEARDOWN_ALWAYS',\n",
    "        'no_save_main_session': True\n",
    "      }\n",
    "\n",
    "\n",
    "    opts = beam.pipeline.PipelineOptions(flags=[], **options)\n",
    "    \n",
    "    pipeline = beam.Pipeline(RUNNER, options=opts)\n",
    "      \n",
    "    (\n",
    "      pipeline | 'Read data from PubSub' >> beam.io.ReadStringsFromPubSub(subscription=pubsub_subscription) \n",
    "               | 'Process message' >> beam.Map(estimate_weight)\n",
    "               | 'Write to BigQuery' >> beam.io.WriteToBigQuery(project=PROJECT, dataset=DATASET, table=TABLE, \n",
    "                                                                schema=schema,\n",
    "                                                                create_disposition=beam.io.BigQueryDisposition.CREATE_IF_NEEDED\n",
    "                                                               )\n",
    "    )\n",
    "\n",
    "    pipeline.run()"
   ]
  },
  {
   "cell_type": "code",
   "execution_count": null,
   "metadata": {
    "collapsed": true
   },
   "outputs": [],
   "source": [
    "run_babyweight_estimates_streaming_pipeline()"
   ]
  },
  {
   "cell_type": "code",
   "execution_count": null,
   "metadata": {
    "collapsed": true
   },
   "outputs": [],
   "source": [
    "instances =  [\n",
    "      {\n",
    "        'is_male': 'True',\n",
    "        'mother_age': 26.0,\n",
    "        'mother_race': 'Asian Indian',\n",
    "        'plurality': 1.0,\n",
    "        'gestation_weeks': 39,\n",
    "        'mother_married': 'True',\n",
    "        'cigarette_use': 'False',\n",
    "        'alcohol_use': 'False'\n",
    "      },\n",
    "      {\n",
    "        'is_male': 'False',\n",
    "        'mother_age': 29.0,\n",
    "        'mother_race': 'Asian Indian',\n",
    "        'plurality': 1.0,\n",
    "        'gestation_weeks': 38,\n",
    "        'mother_married': 'True',\n",
    "        'cigarette_use': 'False',\n",
    "        'alcohol_use': 'False'\n",
    "      },\n",
    "      {\n",
    "        'is_male': 'True',\n",
    "        'mother_age': 26.0,\n",
    "        'mother_race': 'White',\n",
    "        'plurality': 1.0,\n",
    "        'gestation_weeks': 39,\n",
    "        'mother_married': 'True',\n",
    "        'cigarette_use': 'False',\n",
    "        'alcohol_use': 'False'\n",
    "      },\n",
    "      {\n",
    "        'is_male': 'True',\n",
    "        'mother_age': 26.0,\n",
    "        'mother_race': 'White',\n",
    "        'plurality': 2.0,\n",
    "        'gestation_weeks': 37,\n",
    "        'mother_married': 'True',\n",
    "        'cigarette_use': 'False',\n",
    "        'alcohol_use': 'True'\n",
    "      }\n",
    "  ]"
   ]
  },
  {
   "cell_type": "markdown",
   "metadata": {},
   "source": [
    "## Send Data Points to PubSub"
   ]
  },
  {
   "cell_type": "code",
   "execution_count": null,
   "metadata": {
    "collapsed": true
   },
   "outputs": [],
   "source": [
    "from random import shuffle\n",
    "\n",
    "iterations = 10000\n",
    "sleep_time = 1\n",
    "\n",
    "for i in range(iterations):\n",
    "    \n",
    "    shuffle(instances)\n",
    "    \n",
    "    for data_point in instances:\n",
    "        \n",
    "        source_timestamp = datetime.datetime.now().strftime(TIME_FORMAT)\n",
    "        source_id = str(abs(hash(str(data_point)+str(source_timestamp))) % (10 ** 10))\n",
    "        data_point['source_id'] = source_id\n",
    "        data_point['source_timestamp'] = source_timestamp\n",
    "        \n",
    "        message = json.dumps(data_point)\n",
    "        topic.publish(message=message, source_id = source_id, source_timestamp=source_timestamp)\n",
    "\n",
    "    print(\"Batch {} was sent. Last Message was: {}\".format(i, message))\n",
    "    print(\"\")\n",
    "\n",
    "    time.sleep(sleep_time)\n",
    "\n",
    "print(\"Done!\")"
   ]
  },
  {
   "cell_type": "markdown",
   "metadata": {},
   "source": [
    "## Consume PubSub Topic "
   ]
  },
  {
   "cell_type": "code",
   "execution_count": null,
   "metadata": {
    "collapsed": true
   },
   "outputs": [],
   "source": [
    "client = pubsub.Client()\n",
    "topic = client.topic(TOPIC)\n",
    "subscription = topic.subscription(SUBSCRIPTION)\n",
    "message = subscription.pull()\n",
    "\n",
    "print(\"source_id\", message[0][1].attributes[\"source_id\"])\n",
    "print(\"source_timestamp:\", message[0][1].attributes[\"source_timestamp\"])\n",
    "print(\"\")\n",
    "print(message[0][1].data)"
   ]
  }
 ],
 "metadata": {
  "kernelspec": {
   "display_name": "Python 3",
   "language": "python",
   "name": "python3"
  },
  "language_info": {
   "codemirror_mode": {
    "name": "ipython",
    "version": 3
   },
   "file_extension": ".py",
   "mimetype": "text/x-python",
   "name": "python",
   "nbconvert_exporter": "python",
   "pygments_lexer": "ipython3",
   "version": "3.6.2"
  }
 },
 "nbformat": 4,
 "nbformat_minor": 2
}
